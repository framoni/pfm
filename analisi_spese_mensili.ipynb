{
 "cells": [
  {
   "cell_type": "markdown",
   "id": "7584683b",
   "metadata": {},
   "source": [
    "# Analisi spese mensili"
   ]
  },
  {
   "cell_type": "code",
   "execution_count": null,
   "id": "26b35f79",
   "metadata": {},
   "outputs": [],
   "source": [
    "import pandas as pd"
   ]
  },
  {
   "cell_type": "code",
   "execution_count": null,
   "id": "0d0f4196",
   "metadata": {},
   "outputs": [],
   "source": [
    "pd.set_option(\"display.max_rows\", None)\n",
    "pd.set_option(\"display.max_columns\", None)\n",
    "pd.set_option(\"display.max_colwidth\", None)"
   ]
  },
  {
   "cell_type": "code",
   "execution_count": null,
   "id": "55b68ef8",
   "metadata": {},
   "outputs": [],
   "source": [
    "df_account = pd.read_csv(\"movimentiConto.csv\")"
   ]
  },
  {
   "cell_type": "code",
   "execution_count": null,
   "id": "d9d0be03",
   "metadata": {},
   "outputs": [],
   "source": [
    "df_prepaid = pd.read_csv(\"movimentiPrepaid.csv\")"
   ]
  },
  {
   "cell_type": "code",
   "execution_count": null,
   "id": "0959120a",
   "metadata": {},
   "outputs": [],
   "source": [
    "df_prepaid"
   ]
  },
  {
   "cell_type": "code",
   "execution_count": null,
   "id": "708a7e07",
   "metadata": {},
   "outputs": [],
   "source": [
    "df_account['Mese Contabile'] = pd.to_datetime(df_account['Data Contabile'], dayfirst=True)"
   ]
  },
  {
   "cell_type": "code",
   "execution_count": null,
   "id": "ea453376",
   "metadata": {},
   "outputs": [],
   "source": [
    "df_account['Mese Contabile'] = df_account['Mese Contabile'].dt.to_period('M')"
   ]
  },
  {
   "cell_type": "code",
   "execution_count": null,
   "id": "0b42450e",
   "metadata": {},
   "outputs": [],
   "source": [
    "df_account['Importo'] = df_account['Importo'].str.replace('.', '')\n",
    "df_account['Importo'] = df_account['Importo'].str.replace(',', '.')\n",
    "df_account['Importo'] = df_account['Importo'].astype(float)"
   ]
  },
  {
   "cell_type": "code",
   "execution_count": null,
   "id": "648b5520",
   "metadata": {},
   "outputs": [],
   "source": [
    "df_account['Importo'] = df_account['Importo'].astype(float)"
   ]
  },
  {
   "cell_type": "code",
   "execution_count": null,
   "id": "6abd5741",
   "metadata": {},
   "outputs": [],
   "source": [
    "df_account"
   ]
  },
  {
   "cell_type": "code",
   "execution_count": null,
   "id": "6e63d78b",
   "metadata": {},
   "outputs": [],
   "source": [
    "df_account.groupby('Mese Contabile')[['Importo']].agg(lambda x: sum([it for it in x if it < 0]))"
   ]
  },
  {
   "cell_type": "code",
   "execution_count": null,
   "id": "c2edc199",
   "metadata": {},
   "outputs": [],
   "source": [
    "# TODO\n",
    "# click month -> pie chart of expenses -> click sector -> list of transactions\n",
    "# better: click month -> bar chart positive / negative for each expense - income -> click on bar -> list of trx"
   ]
  },
  {
   "cell_type": "code",
   "execution_count": null,
   "id": "15e7f7f3",
   "metadata": {},
   "outputs": [],
   "source": [
    "column_map = {\n",
    "    'Data Contabile': 'dataContabile',\n",
    "    'Data Valuta': 'dataValuta',\n",
    "    'Importo': 'importo',\n",
    "    'Divisa': 'valuta',\n",
    "    'Causale / Descrizione': 'causale',\n",
    "    'Stato': 'stato',\n",
    "    'Canale': 'canale',\n",
    "    'Mese Contabile': 'meseContabile'\n",
    "}"
   ]
  },
  {
   "cell_type": "code",
   "execution_count": null,
   "id": "8e3f4611",
   "metadata": {},
   "outputs": [],
   "source": [
    "df_account.rename(columns=column_map, inplace=True)"
   ]
  },
  {
   "cell_type": "code",
   "execution_count": null,
   "id": "26baeb62",
   "metadata": {},
   "outputs": [],
   "source": [
    "batch = df_account.to_dict(orient='records')"
   ]
  },
  {
   "cell_type": "code",
   "execution_count": null,
   "id": "286ddbc6",
   "metadata": {},
   "outputs": [],
   "source": [
    "for it in batch:\n",
    "    it['labels'] = []"
   ]
  },
  {
   "cell_type": "code",
   "execution_count": null,
   "id": "2aeb6e10",
   "metadata": {},
   "outputs": [],
   "source": [
    "from lib.categorizer import rule_engine_test\n",
    "\n",
    "batch = rule_engine_test(batch)"
   ]
  },
  {
   "cell_type": "code",
   "execution_count": null,
   "id": "608a6aec",
   "metadata": {},
   "outputs": [],
   "source": [
    "type(batch[96]['causale'])"
   ]
  },
  {
   "cell_type": "code",
   "execution_count": null,
   "id": "84abcc6f",
   "metadata": {},
   "outputs": [],
   "source": [
    "df2 = pd.DataFrame(batch)\n",
    "df2"
   ]
  },
  {
   "cell_type": "code",
   "execution_count": null,
   "id": "911c047c",
   "metadata": {},
   "outputs": [],
   "source": [
    "df2['num_labels'] = df2['labels'].apply(lambda x: len(x))"
   ]
  },
  {
   "cell_type": "code",
   "execution_count": null,
   "id": "fc43c9cb",
   "metadata": {},
   "outputs": [],
   "source": [
    "df2 = df2[df2['num_labels']==0]"
   ]
  },
  {
   "cell_type": "code",
   "execution_count": null,
   "id": "8d19a1ac",
   "metadata": {},
   "outputs": [],
   "source": [
    "df2.groupby('meseContabile')[['importo']].agg(lambda x: sum(x))"
   ]
  },
  {
   "cell_type": "code",
   "execution_count": null,
   "id": "de52dbfe",
   "metadata": {},
   "outputs": [],
   "source": [
    "df2[df2['meseContabile']=='2022-06']"
   ]
  },
  {
   "cell_type": "code",
   "execution_count": null,
   "id": "909a36c1",
   "metadata": {},
   "outputs": [],
   "source": []
  }
 ],
 "metadata": {
  "kernelspec": {
   "display_name": "Python 3 (ipykernel)",
   "language": "python",
   "name": "python3"
  },
  "language_info": {
   "codemirror_mode": {
    "name": "ipython",
    "version": 3
   },
   "file_extension": ".py",
   "mimetype": "text/x-python",
   "name": "python",
   "nbconvert_exporter": "python",
   "pygments_lexer": "ipython3",
   "version": "3.8.8"
  }
 },
 "nbformat": 4,
 "nbformat_minor": 5
}
